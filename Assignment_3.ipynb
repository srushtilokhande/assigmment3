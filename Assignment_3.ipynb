{
  "cells": [
    {
      "cell_type": "markdown",
      "metadata": {
        "id": "gygsyhtrtqAl"
      },
      "source": [
        "**Que 1. What is the difference between a function and a method in Python?**\n",
        "\n",
        "\n",
        "In Python, both functions and methods are blocks of code designed to perform a specific task. However, there are some key differences between the two:\n",
        "\n",
        "1. Function:\n",
        "\n",
        "*   A function is a standalone block of reusable code that is not tied to any specific object or class.\n",
        "*   Functions are defined using the def keyword and can be called by their name.\n",
        "\n",
        "2. Method:\n",
        "\n",
        "\n",
        "*   A method is similar to a function but is associated with an object or class. It is called on an object (an instance of a class).\n",
        "*   Methods are defined inside a class and are implicitly passed the instance of the class (usually called self) as the first argument.\n",
        "\n",
        "\n"
      ]
    },
    {
      "cell_type": "code",
      "execution_count": null,
      "metadata": {
        "colab": {
          "base_uri": "https://localhost:8080/"
        },
        "id": "f1OnNI5YvJG0",
        "outputId": "352c798d-cc3b-425c-d3b8-10829ebe4b67"
      },
      "outputs": [
        {
          "name": "stdout",
          "output_type": "stream",
          "text": [
            "Hello, srushti!\n"
          ]
        }
      ],
      "source": [
        "# example of function\n",
        "def greet(name):\n",
        "    return f\"Hello, {name}!\"\n",
        "\n",
        "print(greet(\"srushti\"))\n"
      ]
    },
    {
      "cell_type": "code",
      "execution_count": null,
      "metadata": {
        "colab": {
          "background_save": true,
          "base_uri": "https://localhost:8080/"
        },
        "id": "hJ61YRgbvZTL",
        "outputId": "8e4e4c44-b5f0-45eb-b1b1-8634ab0749db"
      },
      "outputs": [
        {
          "name": "stdout",
          "output_type": "stream",
          "text": [
            "Hello, srushti!\n"
          ]
        }
      ],
      "source": [
        "# example of method\n",
        "class Person:\n",
        "    def __init__(self, name):\n",
        "        self.name = name\n",
        "\n",
        "    def greet(self):\n",
        "        return f\"Hello, {self.name}!\"\n",
        "\n",
        "person = Person(\"srushti\")\n",
        "print(person.greet())\n"
      ]
    },
    {
      "cell_type": "markdown",
      "source": [
        "Que.2 Explain the concept of function arguments and parameters in Python.\n",
        "\n",
        "1. Parameters\n",
        "\n",
        "\n",
        "*   Parameters are the variables listed in a function definition\n",
        "*   They act as placeholders for the values that will be passed when the function is called.\n",
        "\n",
        "2. Arguments\n",
        "\n",
        "\n",
        "*  Arguments are the actual values you pass to the function when you call it.\n",
        "*   These values are assigned to the function's parameters.\n",
        "\n",
        "***Type of function arugments:***\n",
        "\n",
        "*  Positional Arguments: Arguments are passed in the same order as the parameters are defined.\n",
        "*   Keyword Arguments: Arguments are passed by specifying the parameter name along with the value.\n",
        "\n",
        "* Default Arguments: A function can have default parameter values. If no argument is passed for that parameter, the default value is used.\n",
        "\n",
        "\n",
        "\n",
        "\n",
        "\n",
        "\n",
        "\n",
        "\n",
        "\n",
        "\n",
        "\n",
        "\n"
      ],
      "metadata": {
        "id": "DxT00UUewd20"
      }
    },
    {
      "cell_type": "code",
      "source": [
        "#parameters\n",
        "def greet(name):  # 'name' is a parameter\n",
        "    print(f\"Hello, {name}!\")\n"
      ],
      "metadata": {
        "id": "ouiLlkNyyPhd"
      },
      "execution_count": null,
      "outputs": []
    },
    {
      "cell_type": "code",
      "source": [
        "#arguments\n",
        "#1 positional arguments\n",
        "def add(a, b):\n",
        "    return a + b\n",
        "\n",
        "result = add(4, 3)  # 4 and 3 are positional arguments\n",
        "print(result)\n",
        "\n"
      ],
      "metadata": {
        "colab": {
          "base_uri": "https://localhost:8080/"
        },
        "id": "2UwD3plFy0Q6",
        "outputId": "f7bac77d-63d0-45e1-fdbd-df280a22ab0c"
      },
      "execution_count": null,
      "outputs": [
        {
          "output_type": "stream",
          "name": "stdout",
          "text": [
            "7\n"
          ]
        }
      ]
    },
    {
      "cell_type": "code",
      "source": [
        "#2 keyword argument\n",
        "result = add(b=3, a=5)  # Passing arguments using parameter names\n",
        "print(result)\n"
      ],
      "metadata": {
        "colab": {
          "base_uri": "https://localhost:8080/"
        },
        "id": "LEJKeblqzaGj",
        "outputId": "29f26cea-b7c1-41a5-ee42-3ee49d0b829d"
      },
      "execution_count": null,
      "outputs": [
        {
          "output_type": "stream",
          "name": "stdout",
          "text": [
            "8\n"
          ]
        }
      ]
    },
    {
      "cell_type": "code",
      "source": [
        "# default argument\n",
        "def greet(name=\"srush\"):\n",
        "    print(f\"Hello, {name}!\")\n",
        "\n",
        "greet()\n",
        "greet(\"srushti\")\n"
      ],
      "metadata": {
        "colab": {
          "base_uri": "https://localhost:8080/"
        },
        "id": "nAeW0BhJzsuq",
        "outputId": "2af7b71b-aa32-48af-ad26-41f2b32ca116"
      },
      "execution_count": null,
      "outputs": [
        {
          "output_type": "stream",
          "name": "stdout",
          "text": [
            "Hello, srush!\n",
            "Hello, srushti!\n"
          ]
        }
      ]
    },
    {
      "cell_type": "markdown",
      "source": [
        "**Que3  What are the different ways to define and call a function in Python?**\n",
        "\n",
        "\n",
        "\n",
        "1.  Regular Function (using def):\n",
        "This is the standard way to define a function using the def keyword.\n",
        "2.   Lambda Function (Anonymous Function):\n",
        "Lambda functions are small, anonymous functions defined with the lambda keyword. They are used for simple operations that can be written in a single line.\n",
        "\n",
        "3. Nested Function:\n",
        "A function can be defined inside another function, creating a nested function.\n",
        "4.\n",
        " Higher-Order Function:\n",
        "A higher-order function either takes another function as an argument or returns a function.\n",
        "5. Function with Default Arguments:\n",
        "You can define functions with default arguments, which provide default values if no arguments are passed.\n"
      ],
      "metadata": {
        "id": "dqq7qfYP0Ogy"
      }
    },
    {
      "cell_type": "code",
      "source": [
        "#example of regular function\n",
        "# Function definition\n",
        "def greet(name):\n",
        "    return f\"Hello, {name}!\"\n",
        "\n",
        "# Function call\n",
        "print(greet(\"srushti\"))\n"
      ],
      "metadata": {
        "colab": {
          "base_uri": "https://localhost:8080/"
        },
        "id": "apvqQNun16_P",
        "outputId": "b5da3f92-24d6-4406-f0b9-07ee1019ec60"
      },
      "execution_count": 1,
      "outputs": [
        {
          "output_type": "stream",
          "name": "stdout",
          "text": [
            "Hello, srushti!\n"
          ]
        }
      ]
    },
    {
      "cell_type": "code",
      "source": [
        "#example of lambda function\n",
        "# Lambda function definition and call\n",
        "greet = lambda name: f\"Hello, {name}!\"\n",
        "print(greet(\"srush\"))\n"
      ],
      "metadata": {
        "colab": {
          "base_uri": "https://localhost:8080/"
        },
        "id": "JqMHbLhx17L2",
        "outputId": "8c001189-1d0f-47cf-d2c1-08a02f518d58"
      },
      "execution_count": 2,
      "outputs": [
        {
          "output_type": "stream",
          "name": "stdout",
          "text": [
            "Hello, srush!\n"
          ]
        }
      ]
    },
    {
      "cell_type": "code",
      "source": [
        "# nested function\n",
        "# Outer function\n",
        "def outer_function(greeting):\n",
        "    # Inner function (nested)\n",
        "    def inner_function(name):\n",
        "        return f\"{greeting}, {name}!\"\n",
        "    return inner_function\n",
        "\n",
        "# Function call\n",
        "greet = outer_function(\"Hi\")\n",
        "print(greet(\"srush\"))\n"
      ],
      "metadata": {
        "colab": {
          "base_uri": "https://localhost:8080/"
        },
        "id": "t0_aA-vr17a4",
        "outputId": "217db133-1339-4be1-8a7f-bd75922ddeff"
      },
      "execution_count": 3,
      "outputs": [
        {
          "output_type": "stream",
          "name": "stdout",
          "text": [
            "Hi, srush!\n"
          ]
        }
      ]
    },
    {
      "cell_type": "code",
      "source": [
        "#higher order function\n",
        "# Function that accepts another function as an argument\n",
        "def apply_function(func, value):\n",
        "    return func(value)\n",
        "\n",
        "# Calling it with a lambda function\n",
        "result = apply_function(lambda x: x * 2, 10)\n",
        "print(result)\n"
      ],
      "metadata": {
        "colab": {
          "base_uri": "https://localhost:8080/"
        },
        "id": "gqqjE57Q17ni",
        "outputId": "0c6fdf32-def2-4e3b-a889-a5ac9101a1c3"
      },
      "execution_count": 4,
      "outputs": [
        {
          "output_type": "stream",
          "name": "stdout",
          "text": [
            "20\n"
          ]
        }
      ]
    },
    {
      "cell_type": "markdown",
      "source": [
        "**Que** 4.What is the purpose of the return statement in a Python function?\n",
        "\n",
        "\n",
        "The return statement in a Python function is used to exit the function and pass back a value (or multiple values) to the caller. It essentially specifies the output of the function. If no return statement is present, the function returns None by default.\n",
        "\n",
        "Purpose of return:\n",
        "1. To end the function’s execution.\n",
        "2. To send back a result from the function to the caller.\n",
        "3. It allows the function to be used as an expression in other parts of the code."
      ],
      "metadata": {
        "id": "8qZi1d9E3Bd3"
      }
    },
    {
      "cell_type": "code",
      "source": [
        "# Function to calculate the square of a number\n",
        "def square(number):\n",
        "    return number * number\n",
        "\n",
        "# Function call and using the returned value\n",
        "result = square(3)\n",
        "print(result)\n"
      ],
      "metadata": {
        "colab": {
          "base_uri": "https://localhost:8080/"
        },
        "id": "wUo39w1M3f59",
        "outputId": "c1d570b1-3c1c-4f14-c52f-1fb043974fa9"
      },
      "execution_count": 6,
      "outputs": [
        {
          "output_type": "stream",
          "name": "stdout",
          "text": [
            "9\n"
          ]
        }
      ]
    },
    {
      "cell_type": "markdown",
      "source": [
        "**Que 5. What are iterators in Python and how do they differ from iterables?**\n",
        "\n",
        "\n",
        "In Python, iterators and iterables are two related but distinct concepts used to traverse elements in a collection (e.g., lists, tuples, dictionaries).\n",
        "\n",
        "1. **Iterable:**\n",
        "\n",
        "\n",
        "*   An iterable is any Python object capable of returning its members one at a time. Common examples include lists, tuples, strings, sets, and dictionaries.\n",
        "*   An iterable is an object that implements the __iter__() method, which returns an iterator.\n",
        "*  An iterable is an object that implements the __iter__() method, which returns an iterator.\n",
        "\n",
        "2. Iterator:\n",
        "\n",
        "\n",
        "*  An iterator is an object that represents a stream of data; it knows how to return the next item in the sequence when you call its __next__() method.\n",
        "*  An iterator is an object that represents a stream of data; it knows how to return the next item in the sequence when you call its __next__() method.\n",
        "*   An iterator must implement two methods: __iter__() (to return the iterator object itself) and __next__() (to get the next item).\n",
        "\n",
        "\n",
        "\n",
        "\n",
        "\n"
      ],
      "metadata": {
        "id": "h_2elvoG38ZR"
      }
    },
    {
      "cell_type": "code",
      "source": [
        "# Iterable example (a list is an iterable)\n",
        "my_list = [1, 2, 3, 4]\n",
        "\n",
        "# We can loop over it with a for loop\n",
        "for item in my_list:\n",
        "    print(item)\n"
      ],
      "metadata": {
        "colab": {
          "base_uri": "https://localhost:8080/"
        },
        "id": "UJQQKSZG5fuL",
        "outputId": "f70a0613-aeb2-4cff-c259-c6ec78afd660"
      },
      "execution_count": 7,
      "outputs": [
        {
          "output_type": "stream",
          "name": "stdout",
          "text": [
            "1\n",
            "2\n",
            "3\n",
            "4\n"
          ]
        }
      ]
    },
    {
      "cell_type": "code",
      "source": [
        "# Creating an iterator from an iterable\n",
        "my_iterator = iter(my_list)\n",
        "\n",
        "# Using the iterator\n",
        "print(next(my_iterator))\n",
        "print(next(my_iterator))\n",
        "print(next(my_iterator))\n",
        "print(next(my_iterator))\n",
        "# If you call `next` again here, it would raise a `StopIteration` exception\n"
      ],
      "metadata": {
        "colab": {
          "base_uri": "https://localhost:8080/"
        },
        "id": "ONBO39fv5f2l",
        "outputId": "c8ce1c46-2e32-424c-ed55-fa166e78868c"
      },
      "execution_count": 8,
      "outputs": [
        {
          "output_type": "stream",
          "name": "stdout",
          "text": [
            "1\n",
            "2\n",
            "3\n",
            "4\n"
          ]
        }
      ]
    },
    {
      "cell_type": "markdown",
      "source": [
        "**Que.6 Explain the concept of generators in Python and how they are defined.**\n",
        "\n",
        "A generator is a special type of iterator in Python that allows you to iterate over a sequence of values lazily—i.e., the values are generated on-the-fly as they are needed, rather than storing the entire sequence in memory at once. This makes generators highly memory-efficient when dealing with large data sets or infinite sequences.\n",
        "\n",
        "Generators are defined using functions with the yield statement, instead of return. Unlike a regular function, which terminates after returning a value, a generator can yield multiple values, and its state (local variables, control flow, etc.) is preserved between each call.\n",
        "\n",
        "**Features of Generators:**\n",
        "\n",
        "\n",
        "*   Lazy Evaluation: Values are computed only when needed, making generators memory efficient.\n",
        "*   State Retention: The generator function’s local state is retained between each yield, allowing it to resume where it left off.\n",
        "*   One-time Use: Once the generator has been exhausted (i.e., it yields all its values), further calls will raise StopIteration.\n",
        "\n",
        "\n",
        "\n",
        "\n"
      ],
      "metadata": {
        "id": "OSQiOS675xTr"
      }
    },
    {
      "cell_type": "code",
      "source": [
        "# A simple generator that yields numbers from 1 to 3\n",
        "def simple_generator():\n",
        "    yield 1\n",
        "    yield 2\n",
        "    yield 3\n",
        "\n",
        "# Using the generator\n",
        "gen = simple_generator()\n",
        "\n",
        "# Fetching values using the `next()` function\n",
        "print(next(gen))\n",
        "print(next(gen))\n",
        "print(next(gen))\n",
        "# Further call would raise StopIteration\n"
      ],
      "metadata": {
        "colab": {
          "base_uri": "https://localhost:8080/"
        },
        "id": "g5t-qmrV6lmT",
        "outputId": "edf59d2c-6fc1-4052-960d-9f438be543bb"
      },
      "execution_count": 9,
      "outputs": [
        {
          "output_type": "stream",
          "name": "stdout",
          "text": [
            "1\n",
            "2\n",
            "3\n"
          ]
        }
      ]
    },
    {
      "cell_type": "markdown",
      "source": [
        "**Que7. What are the advantages of using generators over regular functions?**\n",
        "\n",
        "Generators provide several key advantages over regular functions, particularly in terms of memory efficiency and performance. Here’s a detailed look at their benefits:\n",
        "\n",
        "1. Memory Efficiency\n",
        "\n",
        "*   Generators produce values lazily, i.e., one at a time and only when requested, rather than computing and storing the entire result set at once. This is particularly useful when dealing with large data sets or sequences, as it avoids loading the entire data set into memory.\n",
        "*   In contrast, regular functions that return large collections (like lists or dictionaries) create and store all values in memory at once, which can lead to memory overload when dealing with large data.\n",
        "Lazy Evaluation: Generators compute values on-the-fly, meaning they only generate values as needed. This can improve performance and responsiveness in applications where not all data is needed immediately.\n",
        "\n",
        "2. Simplified Code: Generators can simplify code by allowing you to create iterators without needing to implement the iterator protocol. This can lead to cleaner and more readable code.\n",
        "\n",
        "3. State Retention: Generators maintain their state between calls. When a generator function is paused, it retains its local variables, which allows for complex stateful iterations without the overhead of an entire class or structure.\n",
        "\n",
        "4. Infinite Sequences: Generators can represent infinite sequences (like generating Fibonacci numbers) without running into memory issues, as they only compute the next value when requested.\n",
        "\n",
        "5. Easier to Work with Streams: Generators are well-suited for working with streams of data, such as reading lines from a file or processing incoming data in real-time.\n",
        "\n",
        "6. Improved Performance in Some Cases: Since generators yield items one at a time, they can be more efficient in certain scenarios where the entire dataset doesn't need to be processed at once.\n",
        "\n"
      ],
      "metadata": {
        "id": "RFr4c6jE7CqY"
      }
    },
    {
      "cell_type": "code",
      "source": [],
      "metadata": {
        "id": "4avRN3f47-0v"
      },
      "execution_count": null,
      "outputs": []
    },
    {
      "cell_type": "markdown",
      "source": [
        "**Que 8. What is a lambda function in Python and when is it typically used?**\n",
        "\n",
        "\n",
        "**Lambda Function in Python**:\n",
        "\n",
        "A lambda function in Python is an anonymous, short, and inline function defined with the keyword lambda. Unlike regular functions defined using def, lambda functions are single-expression functions, meaning they can only contain one expression, which is returned implicitly.\n",
        "\n",
        "Lambda functions are typically used when you need a small function for a short period of time and do not want to explicitly define a regular function using def. They are commonly used in situations where functions are passed as arguments to higher-order functions like map(), filter(), and sorted()."
      ],
      "metadata": {
        "id": "St76HpUt8cCY"
      }
    },
    {
      "cell_type": "code",
      "source": [
        "# example of simple lambda\n",
        "# Lambda function to add two numbers\n",
        "add = lambda x, y: x + y\n",
        "\n",
        "# Calling the lambda function\n",
        "result = add(4, 5)\n",
        "print(result)\n"
      ],
      "metadata": {
        "colab": {
          "base_uri": "https://localhost:8080/"
        },
        "id": "q5j5051B9FZq",
        "outputId": "e955bc32-3569-487b-8dcd-cf29d7832861"
      },
      "execution_count": 11,
      "outputs": [
        {
          "output_type": "stream",
          "name": "stdout",
          "text": [
            "9\n"
          ]
        }
      ]
    },
    {
      "cell_type": "code",
      "source": [
        "#lambda function with map()\n",
        "# Using lambda with map() to square a list of numbers\n",
        "numbers = [1, 2, 3, 4, 5]\n",
        "squared_numbers = list(map(lambda x: x ** 2, numbers))\n",
        "\n",
        "print(squared_numbers)\n"
      ],
      "metadata": {
        "colab": {
          "base_uri": "https://localhost:8080/"
        },
        "id": "Nugt5IPK9QaC",
        "outputId": "36e46be7-0181-469b-c3e4-36d0db0fbbbc"
      },
      "execution_count": 12,
      "outputs": [
        {
          "output_type": "stream",
          "name": "stdout",
          "text": [
            "[1, 4, 9, 16, 25]\n"
          ]
        }
      ]
    },
    {
      "cell_type": "code",
      "source": [
        "#lambda finction with sorted()\n",
        "# Sorting a list of tuples based on the second element using lambda\n",
        "pairs = [(1, 'one'), (2, 'two'), (3, 'three'), (4, 'four')]\n",
        "sorted_pairs = sorted(pairs, key=lambda pair: pair[1])\n",
        "\n",
        "print(sorted_pairs)\n",
        "\n"
      ],
      "metadata": {
        "colab": {
          "base_uri": "https://localhost:8080/"
        },
        "id": "6K5IVrpZ9fYR",
        "outputId": "2079eb89-642e-4301-8230-97255c57bd6c"
      },
      "execution_count": 13,
      "outputs": [
        {
          "output_type": "stream",
          "name": "stdout",
          "text": [
            "[(4, 'four'), (1, 'one'), (3, 'three'), (2, 'two')]\n"
          ]
        }
      ]
    },
    {
      "cell_type": "markdown",
      "source": [
        "**Que 9.  Explain the purpose and usage of the `map()` function in Python.**\n",
        "\n",
        "\n",
        "Purpose of the map() Function in Python:\n",
        "The map() function in Python is used to apply a given function to all items in an iterable (such as a list, tuple, or set) and return a new iterable (usually a map object, which can be converted into a list, tuple, etc.). It allows for functional-style programming, where you can apply a function to every element of a collection without explicitly writing loops.\n",
        "\n",
        "1. The function passed to map() is applied to each element of the iterable.\n",
        "2. It returns a map object, which is an iterator. You can convert it to a list, tuple, or other sequence types if needed.\n",
        "3. Multiple iterables can be passed, in which case the function should accept that many arguments, and map() will apply the function element-wise across the iterables."
      ],
      "metadata": {
        "id": "iNfvIyK69tMv"
      }
    },
    {
      "cell_type": "code",
      "source": [
        "#Applying a Function to a List\n",
        "# Function to square a number\n",
        "def square(x):\n",
        "    return x * x\n",
        "\n",
        "# List of numbers\n",
        "numbers = [1, 2, 3, 4, 5]\n",
        "\n",
        "# Applying `map()` to square each number\n",
        "squared_numbers = map(square, numbers)\n",
        "\n",
        "# Converting the map object to a list and printing it\n",
        "print(list(squared_numbers))\n"
      ],
      "metadata": {
        "colab": {
          "base_uri": "https://localhost:8080/"
        },
        "id": "JGBZt3Si-lxD",
        "outputId": "66c440c4-5b6e-4647-effc-c3ea2e770b16"
      },
      "execution_count": 14,
      "outputs": [
        {
          "output_type": "stream",
          "name": "stdout",
          "text": [
            "[1, 4, 9, 16, 25]\n"
          ]
        }
      ]
    },
    {
      "cell_type": "markdown",
      "source": [
        "**Que10.What is the difference between `map()`, `reduce()`, and `filter()` functions in Python?**\n",
        "\n",
        "\n",
        "\n",
        "In Python, map(), reduce(), and filter() are functional programming tools that allow you to apply functions to iterables. While they all process data from iterables like lists or tuples, they serve different purposes and have distinct behavior. Here's a breakdown of each, including their differences.\n",
        "\n",
        "1**.  map() function:**\n",
        "\n",
        "* Purpose: Applies a given function to each element of an iterable and returns an iterable (map object) with the results.\n",
        "*  Behavior: It processes every item in the iterable and returns a transformed result for each item.\n",
        "*  Typical Use Case: When you want to transform or modify all elements in an iterable.\n",
        "\n",
        "2. **reduce() function:**\n",
        "\n",
        "*  Typical Use Case: When you want to transform or modify all elements in an iterable\n",
        "*   Behavior: The function takes two arguments and processes them cumulatively, reducing the iterable to a single output by applying the function repeatedly (e.g., summing or multiplying all items).\n",
        "*  Typical Use Case: When you need to reduce a collection of values down to one, such as summing a list of numbers or finding a product.\n",
        "*  Location: reduce() is in the functools module and must be imported.\n",
        "\n",
        "3.** filter() function:**\n",
        "\n",
        "*  Purpose: Filters elements of an iterable based on a boolean condition. It returns an iterable containing only the elements that meet the condition (i.e., for which the function returns True).\n",
        "* Behavior: Processes each item in the iterable, applies the function, and returns only those items for which the function returns True.\n",
        "* Typical Use Case: When you want to filter out elements from a list, keeping only those that satisfy a condition.\n",
        "\n",
        "\n",
        "\n",
        "\n",
        "\n",
        "\n",
        "\n",
        "\n",
        "\n",
        "\n",
        "\n",
        "\n"
      ],
      "metadata": {
        "id": "296laUnO-3tM"
      }
    },
    {
      "cell_type": "code",
      "source": [
        "# Example using map() to square each number in a list\n",
        "numbers = [1, 2, 3, 4, 5]\n",
        "squared = map(lambda x: x ** 2, numbers)\n",
        "print(list(squared))\n"
      ],
      "metadata": {
        "colab": {
          "base_uri": "https://localhost:8080/"
        },
        "id": "97g_PHF5Af0U",
        "outputId": "3233eef0-08cf-4e7d-bea0-8a57b5324a08"
      },
      "execution_count": 15,
      "outputs": [
        {
          "output_type": "stream",
          "name": "stdout",
          "text": [
            "[1, 4, 9, 16, 25]\n"
          ]
        }
      ]
    },
    {
      "cell_type": "code",
      "source": [
        "from functools import reduce\n",
        "\n",
        "# Example using reduce() to sum all numbers in a list\n",
        "numbers = [1, 2, 3, 4, 5]\n",
        "total = reduce(lambda x, y: x + y, numbers)\n",
        "print(total)\n"
      ],
      "metadata": {
        "colab": {
          "base_uri": "https://localhost:8080/"
        },
        "id": "dE-G3p0FAf5h",
        "outputId": "3a868d8a-d878-4e37-8271-23eef1b98955"
      },
      "execution_count": 16,
      "outputs": [
        {
          "output_type": "stream",
          "name": "stdout",
          "text": [
            "15\n"
          ]
        }
      ]
    },
    {
      "cell_type": "code",
      "source": [
        "# Example using filter() to keep only even numbers from a list\n",
        "numbers = [1, 2, 3, 4, 5]\n",
        "evens = filter(lambda x: x % 2 == 0, numbers)\n",
        "print(list(evens))\n"
      ],
      "metadata": {
        "colab": {
          "base_uri": "https://localhost:8080/"
        },
        "id": "7BBTbNBeAf8_",
        "outputId": "d8fa14b1-a3f1-4ddd-8389-3351166d8f13"
      },
      "execution_count": 18,
      "outputs": [
        {
          "output_type": "stream",
          "name": "stdout",
          "text": [
            "[2, 4]\n"
          ]
        }
      ]
    },
    {
      "cell_type": "markdown",
      "source": [
        "**Practical Question**"
      ],
      "metadata": {
        "id": "dWMxyHjABFQo"
      }
    },
    {
      "cell_type": "code",
      "source": [
        "#Write a Python function that takes a list of numbers as input and returns the sum of all even numbers in the list.\n",
        "\n",
        "def sum_of_even_numbers(numbers):\n",
        "    # Use list comprehension to filter even numbers and then sum them\n",
        "    return sum(num for num in numbers if num % 2 == 0)\n",
        "\n",
        "# Example usage\n",
        "numbers = [1, 2, 3, 4, 5, 6, 7, 8, 9, 10]\n",
        "result = sum_of_even_numbers(numbers)\n",
        "print(f\"Sum of even numbers: {result}\")\n",
        "\n"
      ],
      "metadata": {
        "colab": {
          "base_uri": "https://localhost:8080/"
        },
        "id": "BnPSsyJeBLr4",
        "outputId": "d3b41720-a90e-4687-fecb-a20b944f472d"
      },
      "execution_count": 19,
      "outputs": [
        {
          "output_type": "stream",
          "name": "stdout",
          "text": [
            "Sum of even numbers: 30\n"
          ]
        }
      ]
    },
    {
      "cell_type": "code",
      "source": [
        "#Create a Python function that accepts a string and returns the reverse of that string.\n",
        "\n",
        "def reverse_string(s):\n",
        "    # Reverse the string using slicing\n",
        "    return s[::-1]\n",
        "\n",
        "# Example usage\n",
        "input_string = \"hello\"\n",
        "reversed_string = reverse_string(input_string)\n",
        "print(f\"Reversed string: {reversed_string}\")\n"
      ],
      "metadata": {
        "colab": {
          "base_uri": "https://localhost:8080/"
        },
        "id": "F8yqtsbkCTgY",
        "outputId": "c584844f-65d5-48f9-986d-ea9805377c29"
      },
      "execution_count": 20,
      "outputs": [
        {
          "output_type": "stream",
          "name": "stdout",
          "text": [
            "Reversed string: olleh\n"
          ]
        }
      ]
    },
    {
      "cell_type": "code",
      "source": [
        "# Implement a Python function that takes a list of integers and returns a new list containing the squares of each number\n",
        "\n",
        "\n",
        "def square_numbers(numbers):\n",
        "    # Use list comprehension to square each number in the input list\n",
        "    return [num ** 2 for num in numbers]\n",
        "\n",
        "# Example usage\n",
        "input_list = [1, 2, 3, 4, 5]\n",
        "squared_list = square_numbers(input_list)\n",
        "print(f\"Squares of the numbers: {squared_list}\")\n"
      ],
      "metadata": {
        "colab": {
          "base_uri": "https://localhost:8080/"
        },
        "id": "KNkyTwLqCTi0",
        "outputId": "88e76f96-5190-40df-9ece-d33c3183ca31"
      },
      "execution_count": 21,
      "outputs": [
        {
          "output_type": "stream",
          "name": "stdout",
          "text": [
            "Squares of the numbers: [1, 4, 9, 16, 25]\n"
          ]
        }
      ]
    },
    {
      "cell_type": "code",
      "source": [
        "#Write a Python function that checks if a given number is prime or not from 1 to 200.\n",
        "def is_prime(n):\n",
        "    # Check if n is less than 2 (not prime)\n",
        "    if n < 2:\n",
        "        return False\n",
        "    # Check for factors from 2 to the square root of n\n",
        "    for i in range(2, int(n**0.5) + 1):\n",
        "        if n % i == 0:\n",
        "            return False\n",
        "    return True\n",
        "\n",
        "# Example usage\n",
        "for number in range(1, 201):\n",
        "    if is_prime(number):\n",
        "        print(f\"{number} is prime.\")\n"
      ],
      "metadata": {
        "colab": {
          "base_uri": "https://localhost:8080/"
        },
        "id": "DskoUfLDCTlM",
        "outputId": "0feaedbe-14ce-4f9c-bd95-2681e6996bd6"
      },
      "execution_count": 22,
      "outputs": [
        {
          "output_type": "stream",
          "name": "stdout",
          "text": [
            "2 is prime.\n",
            "3 is prime.\n",
            "5 is prime.\n",
            "7 is prime.\n",
            "11 is prime.\n",
            "13 is prime.\n",
            "17 is prime.\n",
            "19 is prime.\n",
            "23 is prime.\n",
            "29 is prime.\n",
            "31 is prime.\n",
            "37 is prime.\n",
            "41 is prime.\n",
            "43 is prime.\n",
            "47 is prime.\n",
            "53 is prime.\n",
            "59 is prime.\n",
            "61 is prime.\n",
            "67 is prime.\n",
            "71 is prime.\n",
            "73 is prime.\n",
            "79 is prime.\n",
            "83 is prime.\n",
            "89 is prime.\n",
            "97 is prime.\n",
            "101 is prime.\n",
            "103 is prime.\n",
            "107 is prime.\n",
            "109 is prime.\n",
            "113 is prime.\n",
            "127 is prime.\n",
            "131 is prime.\n",
            "137 is prime.\n",
            "139 is prime.\n",
            "149 is prime.\n",
            "151 is prime.\n",
            "157 is prime.\n",
            "163 is prime.\n",
            "167 is prime.\n",
            "173 is prime.\n",
            "179 is prime.\n",
            "181 is prime.\n",
            "191 is prime.\n",
            "193 is prime.\n",
            "197 is prime.\n",
            "199 is prime.\n"
          ]
        }
      ]
    },
    {
      "cell_type": "code",
      "source": [
        "# Write a generator function in Python that yields the powers of 2 up to a given exponent.\n",
        "\n",
        "def powers_of_two(max_exponent):\n",
        "    for exponent in range(max_exponent + 1):\n",
        "        yield 2 ** exponent\n",
        "\n",
        "# Example usage\n",
        "for power in powers_of_two(5):\n",
        "    print(power)\n"
      ],
      "metadata": {
        "colab": {
          "base_uri": "https://localhost:8080/"
        },
        "id": "ywnMIIttCTox",
        "outputId": "f6a33ae2-bcdd-45b6-d21b-aba736b207a6"
      },
      "execution_count": 23,
      "outputs": [
        {
          "output_type": "stream",
          "name": "stdout",
          "text": [
            "1\n",
            "2\n",
            "4\n",
            "8\n",
            "16\n",
            "32\n"
          ]
        }
      ]
    },
    {
      "cell_type": "code",
      "source": [
        "# Implement a generator function that reads a file line by line and yields each line as a string.\n",
        "def read_file_line_by_line(file_path):\n",
        "    with open(file_path, 'r') as file:\n",
        "        for line in file:\n",
        "            yield line.strip()  # Use strip() to remove any leading/trailing whitespace\n",
        "\n",
        "# Example usage:\n",
        "# for line in read_file_line_by_line('example.txt'):\n",
        "#     print(line)\n"
      ],
      "metadata": {
        "id": "-tHXrtBeFQyx"
      },
      "execution_count": 24,
      "outputs": []
    },
    {
      "cell_type": "code",
      "source": [
        "# Use a lambda function in Python to sort a list of tuples based on the second element of each tuple.\n",
        "\n",
        "# Sample list of tuples\n",
        "data = [(1, 'apple'), (2, 'orange'), (3, 'banana'), (4, 'grape')]\n",
        "\n",
        "# Sorting the list based on the second element of each tuple\n",
        "sorted_data = sorted(data, key=lambda x: x[1])\n",
        "\n",
        "print(sorted_data)\n"
      ],
      "metadata": {
        "colab": {
          "base_uri": "https://localhost:8080/"
        },
        "id": "7uHvXinvF_P9",
        "outputId": "62c8e8b4-cf56-4337-b538-4d3035b8a87a"
      },
      "execution_count": 25,
      "outputs": [
        {
          "output_type": "stream",
          "name": "stdout",
          "text": [
            "[(1, 'apple'), (3, 'banana'), (4, 'grape'), (2, 'orange')]\n"
          ]
        }
      ]
    },
    {
      "cell_type": "code",
      "source": [
        "#Write a Python program that uses `map()` to convert a list of temperatures from Celsius to Fahrenheit.\n",
        "\n",
        "# Function to convert Celsius to Fahrenheit\n",
        "def celsius_to_fahrenheit(celsius):\n",
        "    return (celsius * 9/5) + 32\n",
        "\n",
        "# List of temperatures in Celsius\n",
        "celsius_temps = [0, 20, 37, 100]\n",
        "\n",
        "# Using map to convert Celsius to Fahrenheit\n",
        "fahrenheit_temps = list(map(celsius_to_fahrenheit, celsius_temps))\n",
        "\n",
        "print(fahrenheit_temps)\n"
      ],
      "metadata": {
        "colab": {
          "base_uri": "https://localhost:8080/"
        },
        "id": "ah0lva_bF_Tg",
        "outputId": "ad58b600-19db-4a3c-8b52-a13d18ef4d06"
      },
      "execution_count": 26,
      "outputs": [
        {
          "output_type": "stream",
          "name": "stdout",
          "text": [
            "[32.0, 68.0, 98.6, 212.0]\n"
          ]
        }
      ]
    },
    {
      "cell_type": "code",
      "source": [
        "# Create a Python program that uses `filter()` to remove all the vowels from a given string.\n",
        "string = \"PrepInsta\"\n",
        "\n",
        "vowels = ['a', 'e', 'i', 'o', 'u', 'A', 'E', 'I', 'O', 'U']\n",
        "result = \"\"\n",
        "\n",
        "for i in range(len(string)):\n",
        "    if string[i] not in vowels:\n",
        "        result = result + string[i]\n",
        "\n",
        "print(\"\\nAfter removing Vowels: \", result)\n"
      ],
      "metadata": {
        "colab": {
          "base_uri": "https://localhost:8080/"
        },
        "id": "4us1GlEEGYU4",
        "outputId": "183ab1de-7b90-4067-b5af-a9ed51195ba2"
      },
      "execution_count": 28,
      "outputs": [
        {
          "output_type": "stream",
          "name": "stdout",
          "text": [
            "\n",
            "After removing Vowels:  Prpnst\n"
          ]
        }
      ]
    }
  ],
  "metadata": {
    "colab": {
      "provenance": []
    },
    "kernelspec": {
      "display_name": "Python 3",
      "name": "python3"
    },
    "language_info": {
      "name": "python"
    }
  },
  "nbformat": 4,
  "nbformat_minor": 0
}